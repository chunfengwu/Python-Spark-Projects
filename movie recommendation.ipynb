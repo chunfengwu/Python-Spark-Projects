{
 "cells": [
  {
   "cell_type": "code",
   "execution_count": 1,
   "metadata": {
    "collapsed": true,
    "deletable": true,
    "editable": true
   },
   "outputs": [],
   "source": [
    "sc = spark.sparkContext"
   ]
  },
  {
   "cell_type": "code",
   "execution_count": 2,
   "metadata": {
    "collapsed": false,
    "deletable": true,
    "editable": true
   },
   "outputs": [],
   "source": [
    "# read data and and give the column names\n",
    "rating = sc.textFile(\"/Users/alicewu/Downloads/ml-100k/u.data\")\\\n",
    "           .map(lambda x: x.split()).map(lambda x: x[0:3]).toDF([\"user\",\"item\",\"rating\"])"
   ]
  },
  {
   "cell_type": "code",
   "execution_count": 3,
   "metadata": {
    "collapsed": false,
    "deletable": true,
    "editable": true
   },
   "outputs": [],
   "source": [
    "# Also keep track of the total number of people who rated a movie\n",
    "ratingWithsize = rating.groupBy(\"item\").count().join(rating, on = \"item\", how = \"right\")"
   ]
  },
  {
   "cell_type": "code",
   "execution_count": 4,
   "metadata": {
    "collapsed": false,
    "deletable": true,
    "editable": true
   },
   "outputs": [
    {
     "name": "stdout",
     "output_type": "stream",
     "text": [
      "+----+-----+----+------+\n",
      "|item|count|user|rating|\n",
      "+----+-----+----+------+\n",
      "|1090|   37|  56|     3|\n",
      "|1090|   37| 303|     1|\n",
      "|1090|   37| 268|     2|\n",
      "|1090|   37| 145|     2|\n",
      "|1090|   37| 320|     3|\n",
      "+----+-----+----+------+\n",
      "only showing top 5 rows\n",
      "\n"
     ]
    }
   ],
   "source": [
    "ratingWithsize.show(5)"
   ]
  },
  {
   "cell_type": "code",
   "execution_count": 5,
   "metadata": {
    "collapsed": true,
    "deletable": true,
    "editable": true
   },
   "outputs": [],
   "source": [
    "# read movie data and give column names\n",
    "item = sc.textFile(\"/Users/alicewu/Downloads/ml-100k/u.item\"\n",
    "                  ).map(lambda x: x.split(\"|\")).map(lambda x: x[0:2]).toDF([\"item\",\"movie_name\"])"
   ]
  },
  {
   "cell_type": "code",
   "execution_count": 6,
   "metadata": {
    "collapsed": true,
    "deletable": true,
    "editable": true
   },
   "outputs": [],
   "source": [
    "# join movie with rating to obtain movie name.\n",
    "rating_movie = ratingWithsize.join(item, on = \"item\", how = \"left\")"
   ]
  },
  {
   "cell_type": "code",
   "execution_count": 7,
   "metadata": {
    "collapsed": false,
    "deletable": true,
    "editable": true
   },
   "outputs": [],
   "source": [
    "# Make a dummy copy of the ratings, so we can do a self-join.\n",
    "rating_movie2 = rating_movie.withColumnRenamed(\"item\",\"item2\").\\\n",
    "                             withColumnRenamed(\"movie_name\",\"movie_name2\").\\\n",
    "                             withColumnRenamed(\"rating\",\"rating2\").\\\n",
    "                             withColumnRenamed(\"count\",\"count2\")"
   ]
  },
  {
   "cell_type": "code",
   "execution_count": 8,
   "metadata": {
    "collapsed": false,
    "deletable": true,
    "editable": true
   },
   "outputs": [],
   "source": [
    "# Join the two rating streams on their user fields,  \n",
    "# in order to find all pairs of movies that a user has rated.  \n",
    "rating_pair=rating_movie.join(rating_movie2, on = \"user\", how =\"left\")\\\n",
    "                        .filter(rating_movie.item < rating_movie2.item2)"
   ]
  },
  {
   "cell_type": "code",
   "execution_count": 9,
   "metadata": {
    "collapsed": false,
    "deletable": true,
    "editable": true
   },
   "outputs": [
    {
     "name": "stdout",
     "output_type": "stream",
     "text": [
      "+----+----+-----+------+-----------------+-----+------+-------+--------------------+\n",
      "|user|item|count|rating|       movie_name|item2|count2|rating2|         movie_name2|\n",
      "+----+----+-----+------+-----------------+-----+------+-------+--------------------+\n",
      "| 296| 125|  244|     5|Phenomenon (1996)|    7|   392|      5|Twelve Monkeys (1...|\n",
      "| 296| 125|  244|     5|Phenomenon (1996)|  475|   250|      4|Trainspotting (1996)|\n",
      "| 296| 125|  244|     5|Phenomenon (1996)|  544|    71|      4|Things to Do in D...|\n",
      "| 296| 125|  244|     5|Phenomenon (1996)|  272|   198|      5|Good Will Hunting...|\n",
      "| 296| 125|  244|     5|Phenomenon (1996)|  462|   148|      4|Like Water For Ch...|\n",
      "+----+----+-----+------+-----------------+-----+------+-------+--------------------+\n",
      "only showing top 5 rows\n",
      "\n"
     ]
    }
   ],
   "source": [
    "rating_pair.show(5)"
   ]
  },
  {
   "cell_type": "code",
   "execution_count": 10,
   "metadata": {
    "collapsed": true,
    "deletable": true,
    "editable": true
   },
   "outputs": [],
   "source": [
    "# Compute (x*y, x^2, y^2), which we need for dot products and norms.\n",
    "rating_pair = rating_pair.withColumn(\"ratingProd\", rating_pair.rating*rating_pair.rating2\n",
    "                        ).withColumn(\"sqRating\", rating_pair.rating**2\n",
    "                        ).withColumn(\"sqRating2\", rating_pair.rating2**2)"
   ]
  },
  {
   "cell_type": "code",
   "execution_count": 11,
   "metadata": {
    "collapsed": true,
    "deletable": true,
    "editable": true
   },
   "outputs": [],
   "source": [
    "# Compute dot products, norms, sums, and sizes of the rating vectors.\n",
    "v = rating_pair.groupBy(\"movie_name\",\"movie_name2\").agg({\"user\":\"count\",\"ratingProd\":\"sum\", \n",
    "                                        \"rating\":\"sum\", \"rating2\": \"sum\", \"sqRating\":\"sum\", \n",
    "                                         \"sqRating2\":\"sum\",\"count\":\"max\", \"count2\":\"max\"})"
   ]
  },
  {
   "cell_type": "code",
   "execution_count": 12,
   "metadata": {
    "collapsed": true,
    "deletable": true,
    "editable": true
   },
   "outputs": [],
   "source": [
    "# rename the columns\n",
    "v = v.withColumnRenamed(\"count(user)\", \"size\").withColumnRenamed(\"sum(rating)\", \"r1\"\n",
    "    ).withColumnRenamed(\"sum(rating2)\", \"r2\").withColumnRenamed(\"sum(ratingProd)\", \"r_Prod\"\n",
    "    ).withColumnRenamed(\"sum(sqRating)\", \"sqR_sum1\").withColumnRenamed(\"sum(sqRating2)\", \"sqR_sum2\"\n",
    "    ).withColumnRenamed(\"max(count)\",\"count1\").withColumnRenamed(\"max(count2)\", \"count2\")"
   ]
  },
  {
   "cell_type": "code",
   "execution_count": 13,
   "metadata": {
    "collapsed": false,
    "deletable": true,
    "editable": true,
    "scrolled": true
   },
   "outputs": [
    {
     "name": "stdout",
     "output_type": "stream",
     "text": [
      "+--------------------+--------------------+------+------+--------+--------+------+-----+-----+----+\n",
      "|          movie_name|         movie_name2|count2|count1|sqR_sum1|sqR_sum2|r_Prod|   r1|   r2|size|\n",
      "+--------------------+--------------------+------+------+--------+--------+------+-----+-----+----+\n",
      "|    Lone Star (1996)|     In & Out (1997)|   230|   187|  1044.0|   683.0| 779.0|238.0|185.0|  57|\n",
      "|Good Will Hunting...|English Patient, ...|   481|   198|  2649.0|  1967.0|2158.0|597.0|495.0| 139|\n",
      "|Good Will Hunting...|   Booty Call (1997)|    48|   198|   298.0|    70.0| 127.0| 62.0| 26.0|  13|\n",
      "|Seven (Se7en) (1995)|English Patient, ...|   481|   236|  1577.0|  1462.0|1417.0|383.0|368.0| 102|\n",
      "|Bridge on the Riv...|  Chasing Amy (1997)|   255|   165|  1242.0|  1097.0|1137.0|276.0|259.0|  63|\n",
      "+--------------------+--------------------+------+------+--------+--------+------+-----+-----+----+\n",
      "only showing top 5 rows\n",
      "\n"
     ]
    }
   ],
   "source": [
    "v.show(5)"
   ]
  },
  {
   "cell_type": "code",
   "execution_count": 14,
   "metadata": {
    "collapsed": true,
    "deletable": true,
    "editable": true
   },
   "outputs": [],
   "source": [
    "# Create Similarity Measures:\n",
    "def correlation(sqR_sum1,sqR_sum2,r_Prod,r1,r2,size):\n",
    "    numerator = size * r_Prod - r1 * r2\n",
    "    denominator = ((size * sqR_sum1 - r1 * r1)**0.5) * ((size * sqR_sum2 - r2 * r2)**0.5)\n",
    "    corr = numerator / denominator\n",
    "    return corr"
   ]
  },
  {
   "cell_type": "code",
   "execution_count": 15,
   "metadata": {
    "collapsed": true,
    "deletable": true,
    "editable": true
   },
   "outputs": [],
   "source": [
    "def cosineSimilarity(r_Prod,sqR_sum1,sqR_sum2):\n",
    "    cosin = r_Prod / (sqR_sum1 * sqR_sum2)\n",
    "    return cosin"
   ]
  },
  {
   "cell_type": "code",
   "execution_count": 16,
   "metadata": {
    "collapsed": true,
    "deletable": true,
    "editable": true
   },
   "outputs": [],
   "source": [
    "def jaccardSimilarity(usersInCommon, count1, count2):\n",
    "    union = count1 + count2 - usersInCommon\n",
    "    jaccard = usersInCommon / union\n",
    "    return jaccard"
   ]
  },
  {
   "cell_type": "code",
   "execution_count": 17,
   "metadata": {
    "collapsed": true
   },
   "outputs": [],
   "source": [
    "PRIOR_COUNT = 10\n",
    "PRIOR_CORRELATION = 0"
   ]
  },
  {
   "cell_type": "code",
   "execution_count": 18,
   "metadata": {
    "collapsed": true,
    "deletable": true,
    "editable": true
   },
   "outputs": [],
   "source": [
    "def regularizedCorrelation(size, r_Prod, r1, r2, sqR_sum1, sqR_sum2, virtualCount, priorCorrelation): \n",
    "    unregularizedCorrelation = correlation(sqR_sum1,sqR_sum2,r_Prod,r1,r2,size)\n",
    "    w = (size + 0.0) / (size + virtualCount)\n",
    "    return w * unregularizedCorrelation + (1 - w) * priorCorrelation"
   ]
  },
  {
   "cell_type": "code",
   "execution_count": 19,
   "metadata": {
    "collapsed": false
   },
   "outputs": [],
   "source": [
    "# Calculate similarity between rating vectors using similarity measures \n",
    "# like correlation, cosine similarity, and Jaccard similarity.\n",
    "movie_recom = v.withColumn(\"corr\", correlation(v.sqR_sum1,v.sqR_sum2,v.r_Prod,v.r1,v.r2,v.size))\\\n",
    "               .withColumn(\"cosin\", cosineSimilarity(v.r_Prod, v.sqR_sum1,v.sqR_sum2))\\\n",
    "               .withColumn(\"jaccard\", jaccardSimilarity(v.size, v.count1, v.count2))\\\n",
    "               .withColumn(\"regular\", regularizedCorrelation(v.size, v.r_Prod, v.r1, v.r2,v.sqR_sum1,\\\n",
    "                                                             v.sqR_sum2,PRIOR_COUNT,PRIOR_CORRELATION))"
   ]
  },
  {
   "cell_type": "code",
   "execution_count": 20,
   "metadata": {
    "collapsed": false
   },
   "outputs": [],
   "source": [
    "similarity = movie_recommendation.rdd.map(lambda x : ((x[\"movie_name\"],x[\"movie_name2\"]), x[\"corr\"],\\\n",
    "                                                      x[\"cosin\"],x[\"jaccard\"],x[\"regular\"]))"
   ]
  },
  {
   "cell_type": "code",
   "execution_count": 21,
   "metadata": {
    "collapsed": false,
    "deletable": true,
    "editable": true
   },
   "outputs": [
    {
     "data": {
      "text/plain": [
       "[((u'Lone Star (1996)', u'In & Out (1997)'),\n",
       "  0.1016006212653406,\n",
       "  0.0010924869434487247,\n",
       "  0.15833333333333333,\n",
       "  0.08643634943469275),\n",
       " ((u'Good Will Hunting (1997)', u'English Patient, The (1996)'),\n",
       "  0.2429528097354092,\n",
       "  0.0004141571106342611,\n",
       "  0.2574074074074074,\n",
       "  0.22664725203504615),\n",
       " ((u'Good Will Hunting (1997)', u'Booty Call (1997)'),\n",
       "  0.4654746681256314,\n",
       "  0.0060882070949185045,\n",
       "  0.055793991416309016,\n",
       "  0.2630943776362264)]"
      ]
     },
     "execution_count": 21,
     "metadata": {},
     "output_type": "execute_result"
    }
   ],
   "source": [
    "similarity.take(3)"
   ]
  }
 ],
 "metadata": {
  "kernelspec": {
   "display_name": "Python 2",
   "language": "python",
   "name": "python2"
  },
  "language_info": {
   "codemirror_mode": {
    "name": "ipython",
    "version": 2
   },
   "file_extension": ".py",
   "mimetype": "text/x-python",
   "name": "python",
   "nbconvert_exporter": "python",
   "pygments_lexer": "ipython2",
   "version": "2.7.11"
  }
 },
 "nbformat": 4,
 "nbformat_minor": 2
}
